{
 "cells": [
  {
   "cell_type": "markdown",
   "metadata": {},
   "source": [
    "# Lecture 5: Decision Tree\n",
    "\n",
    "<br>[1] scikit-learn decision tree classifier: https://scikit-learn.org/stable/modules/generated/sklearn.tree.DecisionTreeClassifier.html\n",
    "<br> [2] Plotting a tree diagram https://scikit-learn.org/stable/modules/generated/sklearn.tree.plot_tree.html\n",
    "<br>[3] Plotting confusion matrix: https://scikit-learn.org/stable/modules/generated/sklearn.metrics.plot_confusion_matrix.html\n",
    "<br>[4] Data Source: https://archive.ics.uci.edu/ml/datasets/heart+disease"
   ]
  },
  {
   "cell_type": "markdown",
   "metadata": {},
   "source": [
    "**age:** age in years\n",
    "<br>**sex:** sex (1 = male; 0 = female)\n",
    "<br>**cp:** chest pain type\n",
    "- Value 1 = typical angina\n",
    "- Value 2 = atypical angina\n",
    "- Value 3 = non-anginal pain\n",
    "- Value 4 = asymptomatic\n",
    "\n",
    "\n",
    "<br>**trestbps:** resting blood pressure (in mm Hg on admission to the hospital)\n",
    "<br>**chol:** serum cholestoral in mg/dl\n",
    "<br>**fbs:** (fasting blood sugar > 120 mg/dl) (1 = true; 0 = false)\n",
    "<br>**restecg:** resting electrocardiographic results\n",
    "- 0 = normal\n",
    "- 1 = having ST-T wave abnormality (T wave inversions and/or ST elevation or depression of > 0.05 mV)\n",
    "- 2 = showing probable or definite left ventricular hypertrophy by Estes' criteria\n",
    "\n",
    "<br>**MaxHR:** maximum heart rate achieved\n",
    "<br>**exang:** exercise induced angina (1 = yes; 0 = no)\n",
    "<br>**oldpeak:** ST depression induced by exercise relative to rest\n",
    "<br>**slope:** the slope of the peak exercise ST segment\n",
    "- 1 = upsloping\n",
    "- 2 = flat\n",
    "- 3 = downsloping\n",
    "\n",
    "<br>**ca:** number of major vessels (0-3) colored by flourosopy\n",
    "<br>**thal:** \n",
    "- 3 = normal; \n",
    "- 6 = fixed defect; \n",
    "- 7 = reversable defect\n",
    "\n",
    "<br>**AHD:** diagnosis of heart disease (angiographic disease status)\n",
    "- Value 0: < 50% diameter narrowing\n",
    "- Value 1: > 50% diameter narrowing"
   ]
  },
  {
   "cell_type": "code",
   "execution_count": 1,
   "metadata": {},
   "outputs": [],
   "source": [
    "import pandas as pd\n",
    "import numpy as np\n",
    "\n",
    "import matplotlib.pyplot as plt\n",
    "import seaborn as sns\n",
    "\n",
    "from sklearn.model_selection import train_test_split\n",
    "from sklearn.tree import DecisionTreeClassifier\n",
    "\n",
    "from sklearn.tree import plot_tree\n",
    "from sklearn.metrics import plot_confusion_matrix\n",
    "from sklearn.model_selection import GridSearchCV\n",
    "\n",
    "from sklearn.metrics import accuracy_score, classification_report, confusion_matrix\n",
    "from sklearn.metrics import roc_curve, roc_auc_score, precision_score, recall_score, f1_score"
   ]
  },
  {
   "cell_type": "markdown",
   "metadata": {},
   "source": [
    "#### Loading heart disease data"
   ]
  },
  {
   "cell_type": "code",
   "execution_count": 2,
   "metadata": {},
   "outputs": [
    {
     "name": "stdout",
     "output_type": "stream",
     "text": [
      "Index(['sex', 'cp', 'trestbps', 'chol', 'fbs', 'restecg', 'thalach', 'exang',\n",
      "       'oldpeak', 'slope', 'ca', 'thal', 'target'],\n",
      "      dtype='object')\n",
      "<class 'pandas.core.frame.DataFrame'>\n",
      "Int64Index: 1025 entries, 52 to 54\n",
      "Data columns (total 13 columns):\n",
      " #   Column    Non-Null Count  Dtype  \n",
      "---  ------    --------------  -----  \n",
      " 0   sex       1025 non-null   int64  \n",
      " 1   cp        1025 non-null   int64  \n",
      " 2   trestbps  1025 non-null   int64  \n",
      " 3   chol      1025 non-null   int64  \n",
      " 4   fbs       1025 non-null   int64  \n",
      " 5   restecg   1025 non-null   int64  \n",
      " 6   thalach   1025 non-null   int64  \n",
      " 7   exang     1025 non-null   int64  \n",
      " 8   oldpeak   1025 non-null   float64\n",
      " 9   slope     1025 non-null   int64  \n",
      " 10  ca        1025 non-null   int64  \n",
      " 11  thal      1025 non-null   int64  \n",
      " 12  target    1025 non-null   int64  \n",
      "dtypes: float64(1), int64(12)\n",
      "memory usage: 112.1 KB\n",
      "None\n"
     ]
    }
   ],
   "source": [
    "# df = pd.read_csv(\"Heart.csv\")\n",
    "\n",
    "df = pd.read_csv(\"Heart.csv\", index_col = 0)\n",
    "\n",
    "# df = df.dropna()\n",
    "\n",
    "print(df.columns)\n",
    "\n",
    "# display(df.head(10))\n",
    "print(df.info())\n",
    "# df.shape"
   ]
  },
  {
   "cell_type": "code",
   "execution_count": 3,
   "metadata": {},
   "outputs": [
    {
     "data": {
      "text/plain": [
       "sex         0\n",
       "cp          0\n",
       "trestbps    0\n",
       "chol        0\n",
       "fbs         0\n",
       "restecg     0\n",
       "thalach     0\n",
       "exang       0\n",
       "oldpeak     0\n",
       "slope       0\n",
       "ca          0\n",
       "thal        0\n",
       "target      0\n",
       "dtype: int64"
      ]
     },
     "execution_count": 3,
     "metadata": {},
     "output_type": "execute_result"
    }
   ],
   "source": [
    "df.isna().sum()\n",
    "# df.shape"
   ]
  },
  {
   "cell_type": "markdown",
   "metadata": {},
   "source": [
    "#### Checking categorical variables"
   ]
  },
  {
   "cell_type": "code",
   "execution_count": 7,
   "metadata": {},
   "outputs": [
    {
     "data": {
      "text/plain": [
       "2    544\n",
       "3    410\n",
       "1     64\n",
       "0      7\n",
       "Name: thal, dtype: int64"
      ]
     },
     "execution_count": 7,
     "metadata": {},
     "output_type": "execute_result"
    }
   ],
   "source": [
    "df[\"thal\"].value_counts()"
   ]
  },
  {
   "cell_type": "code",
   "execution_count": 8,
   "metadata": {},
   "outputs": [
    {
     "data": {
      "text/plain": [
       "0    578\n",
       "1    226\n",
       "2    134\n",
       "3     69\n",
       "4     18\n",
       "Name: ca, dtype: int64"
      ]
     },
     "execution_count": 8,
     "metadata": {},
     "output_type": "execute_result"
    }
   ],
   "source": [
    "df[\"ca\"].value_counts()"
   ]
  },
  {
   "cell_type": "code",
   "execution_count": 12,
   "metadata": {},
   "outputs": [],
   "source": [
    "# df[\"chestpain\"].value_counts()"
   ]
  },
  {
   "cell_type": "code",
   "execution_count": 13,
   "metadata": {},
   "outputs": [],
   "source": [
    "# df[\"Slope\"].value_counts()"
   ]
  },
  {
   "cell_type": "code",
   "execution_count": 14,
   "metadata": {},
   "outputs": [
    {
     "data": {
      "text/plain": [
       "1    513\n",
       "0    497\n",
       "2     15\n",
       "Name: restecg, dtype: int64"
      ]
     },
     "execution_count": 14,
     "metadata": {},
     "output_type": "execute_result"
    }
   ],
   "source": [
    "df[\"restecg\"].value_counts()"
   ]
  },
  {
   "cell_type": "code",
   "execution_count": 21,
   "metadata": {},
   "outputs": [],
   "source": [
    "c_vars = [\"restecg\", \"slope\", \"cp\", \"ca\", \"thal\"]"
   ]
  },
  {
   "cell_type": "markdown",
   "metadata": {},
   "source": [
    "#### Target variable: 'hd'"
   ]
  },
  {
   "cell_type": "code",
   "execution_count": 22,
   "metadata": {},
   "outputs": [
    {
     "data": {
      "text/plain": [
       "1    526\n",
       "0    499\n",
       "Name: target, dtype: int64"
      ]
     },
     "execution_count": 22,
     "metadata": {},
     "output_type": "execute_result"
    }
   ],
   "source": [
    "df[\"target\"].value_counts()"
   ]
  },
  {
   "cell_type": "markdown",
   "metadata": {},
   "source": [
    "#### Create feature set and target"
   ]
  },
  {
   "cell_type": "code",
   "execution_count": 23,
   "metadata": {},
   "outputs": [
    {
     "name": "stdout",
     "output_type": "stream",
     "text": [
      "(1025, 12) (1025, 1)\n",
      "Index(['sex', 'cp', 'trestbps', 'chol', 'fbs', 'restecg', 'thalach', 'exang',\n",
      "       'oldpeak', 'slope', 'ca', 'thal'],\n",
      "      dtype='object')\n"
     ]
    }
   ],
   "source": [
    "X = df.drop(\"target\", axis=1)\n",
    "y = df[[\"target\"]]\n",
    "\n",
    "print(X.shape, y.shape)\n",
    "print(X.columns)"
   ]
  },
  {
   "cell_type": "markdown",
   "metadata": {},
   "source": [
    "#### One-hot encoding and Label Encoding"
   ]
  },
  {
   "cell_type": "code",
   "execution_count": 24,
   "metadata": {},
   "outputs": [
    {
     "name": "stdout",
     "output_type": "stream",
     "text": [
      "(1025, 21)\n"
     ]
    }
   ],
   "source": [
    "X = pd.get_dummies(X, columns=c_vars, drop_first=True)\n",
    "\n",
    "print(X.shape)"
   ]
  },
  {
   "cell_type": "code",
   "execution_count": 25,
   "metadata": {},
   "outputs": [
    {
     "data": {
      "text/plain": [
       "Index(['sex', 'trestbps', 'chol', 'fbs', 'thalach', 'exang', 'oldpeak',\n",
       "       'restecg_1', 'restecg_2', 'slope_1', 'slope_2', 'cp_1', 'cp_2', 'cp_3',\n",
       "       'ca_1', 'ca_2', 'ca_3', 'ca_4', 'thal_1', 'thal_2', 'thal_3'],\n",
       "      dtype='object')"
      ]
     },
     "execution_count": 25,
     "metadata": {},
     "output_type": "execute_result"
    }
   ],
   "source": [
    "X.columns"
   ]
  },
  {
   "cell_type": "code",
   "execution_count": 26,
   "metadata": {},
   "outputs": [
    {
     "data": {
      "text/html": [
       "<div>\n",
       "<style scoped>\n",
       "    .dataframe tbody tr th:only-of-type {\n",
       "        vertical-align: middle;\n",
       "    }\n",
       "\n",
       "    .dataframe tbody tr th {\n",
       "        vertical-align: top;\n",
       "    }\n",
       "\n",
       "    .dataframe thead th {\n",
       "        text-align: right;\n",
       "    }\n",
       "</style>\n",
       "<table border=\"1\" class=\"dataframe\">\n",
       "  <thead>\n",
       "    <tr style=\"text-align: right;\">\n",
       "      <th></th>\n",
       "      <th>sex</th>\n",
       "      <th>trestbps</th>\n",
       "      <th>chol</th>\n",
       "      <th>fbs</th>\n",
       "      <th>thalach</th>\n",
       "      <th>exang</th>\n",
       "      <th>oldpeak</th>\n",
       "      <th>restecg_1</th>\n",
       "      <th>restecg_2</th>\n",
       "      <th>slope_1</th>\n",
       "      <th>...</th>\n",
       "      <th>cp_1</th>\n",
       "      <th>cp_2</th>\n",
       "      <th>cp_3</th>\n",
       "      <th>ca_1</th>\n",
       "      <th>ca_2</th>\n",
       "      <th>ca_3</th>\n",
       "      <th>ca_4</th>\n",
       "      <th>thal_1</th>\n",
       "      <th>thal_2</th>\n",
       "      <th>thal_3</th>\n",
       "    </tr>\n",
       "    <tr>\n",
       "      <th>age</th>\n",
       "      <th></th>\n",
       "      <th></th>\n",
       "      <th></th>\n",
       "      <th></th>\n",
       "      <th></th>\n",
       "      <th></th>\n",
       "      <th></th>\n",
       "      <th></th>\n",
       "      <th></th>\n",
       "      <th></th>\n",
       "      <th></th>\n",
       "      <th></th>\n",
       "      <th></th>\n",
       "      <th></th>\n",
       "      <th></th>\n",
       "      <th></th>\n",
       "      <th></th>\n",
       "      <th></th>\n",
       "      <th></th>\n",
       "      <th></th>\n",
       "      <th></th>\n",
       "    </tr>\n",
       "  </thead>\n",
       "  <tbody>\n",
       "    <tr>\n",
       "      <th>52</th>\n",
       "      <td>1</td>\n",
       "      <td>125</td>\n",
       "      <td>212</td>\n",
       "      <td>0</td>\n",
       "      <td>168</td>\n",
       "      <td>0</td>\n",
       "      <td>1.0</td>\n",
       "      <td>1</td>\n",
       "      <td>0</td>\n",
       "      <td>0</td>\n",
       "      <td>...</td>\n",
       "      <td>0</td>\n",
       "      <td>0</td>\n",
       "      <td>0</td>\n",
       "      <td>0</td>\n",
       "      <td>1</td>\n",
       "      <td>0</td>\n",
       "      <td>0</td>\n",
       "      <td>0</td>\n",
       "      <td>0</td>\n",
       "      <td>1</td>\n",
       "    </tr>\n",
       "    <tr>\n",
       "      <th>53</th>\n",
       "      <td>1</td>\n",
       "      <td>140</td>\n",
       "      <td>203</td>\n",
       "      <td>1</td>\n",
       "      <td>155</td>\n",
       "      <td>1</td>\n",
       "      <td>3.1</td>\n",
       "      <td>0</td>\n",
       "      <td>0</td>\n",
       "      <td>0</td>\n",
       "      <td>...</td>\n",
       "      <td>0</td>\n",
       "      <td>0</td>\n",
       "      <td>0</td>\n",
       "      <td>0</td>\n",
       "      <td>0</td>\n",
       "      <td>0</td>\n",
       "      <td>0</td>\n",
       "      <td>0</td>\n",
       "      <td>0</td>\n",
       "      <td>1</td>\n",
       "    </tr>\n",
       "    <tr>\n",
       "      <th>70</th>\n",
       "      <td>1</td>\n",
       "      <td>145</td>\n",
       "      <td>174</td>\n",
       "      <td>0</td>\n",
       "      <td>125</td>\n",
       "      <td>1</td>\n",
       "      <td>2.6</td>\n",
       "      <td>1</td>\n",
       "      <td>0</td>\n",
       "      <td>0</td>\n",
       "      <td>...</td>\n",
       "      <td>0</td>\n",
       "      <td>0</td>\n",
       "      <td>0</td>\n",
       "      <td>0</td>\n",
       "      <td>0</td>\n",
       "      <td>0</td>\n",
       "      <td>0</td>\n",
       "      <td>0</td>\n",
       "      <td>0</td>\n",
       "      <td>1</td>\n",
       "    </tr>\n",
       "    <tr>\n",
       "      <th>61</th>\n",
       "      <td>1</td>\n",
       "      <td>148</td>\n",
       "      <td>203</td>\n",
       "      <td>0</td>\n",
       "      <td>161</td>\n",
       "      <td>0</td>\n",
       "      <td>0.0</td>\n",
       "      <td>1</td>\n",
       "      <td>0</td>\n",
       "      <td>0</td>\n",
       "      <td>...</td>\n",
       "      <td>0</td>\n",
       "      <td>0</td>\n",
       "      <td>0</td>\n",
       "      <td>1</td>\n",
       "      <td>0</td>\n",
       "      <td>0</td>\n",
       "      <td>0</td>\n",
       "      <td>0</td>\n",
       "      <td>0</td>\n",
       "      <td>1</td>\n",
       "    </tr>\n",
       "  </tbody>\n",
       "</table>\n",
       "<p>4 rows × 21 columns</p>\n",
       "</div>"
      ],
      "text/plain": [
       "     sex  trestbps  chol  fbs  thalach  exang  oldpeak  restecg_1  restecg_2  \\\n",
       "age                                                                            \n",
       "52     1       125   212    0      168      0      1.0          1          0   \n",
       "53     1       140   203    1      155      1      3.1          0          0   \n",
       "70     1       145   174    0      125      1      2.6          1          0   \n",
       "61     1       148   203    0      161      0      0.0          1          0   \n",
       "\n",
       "     slope_1  ...  cp_1  cp_2  cp_3  ca_1  ca_2  ca_3  ca_4  thal_1  thal_2  \\\n",
       "age           ...                                                             \n",
       "52         0  ...     0     0     0     0     1     0     0       0       0   \n",
       "53         0  ...     0     0     0     0     0     0     0       0       0   \n",
       "70         0  ...     0     0     0     0     0     0     0       0       0   \n",
       "61         0  ...     0     0     0     1     0     0     0       0       0   \n",
       "\n",
       "     thal_3  \n",
       "age          \n",
       "52        1  \n",
       "53        1  \n",
       "70        1  \n",
       "61        1  \n",
       "\n",
       "[4 rows x 21 columns]"
      ]
     },
     "execution_count": 26,
     "metadata": {},
     "output_type": "execute_result"
    }
   ],
   "source": [
    "X.head(4)"
   ]
  },
  {
   "cell_type": "code",
   "execution_count": 27,
   "metadata": {},
   "outputs": [
    {
     "data": {
      "text/plain": [
       "target\n",
       "1         526\n",
       "0         499\n",
       "dtype: int64"
      ]
     },
     "execution_count": 27,
     "metadata": {},
     "output_type": "execute_result"
    }
   ],
   "source": [
    "y.value_counts()"
   ]
  },
  {
   "cell_type": "code",
   "execution_count": 28,
   "metadata": {},
   "outputs": [],
   "source": [
    "# Label Encoding\n",
    "y = y.replace({\"No\": 0, \"Yes\": 1})"
   ]
  },
  {
   "cell_type": "markdown",
   "metadata": {},
   "source": [
    "#### Split the dataset intro train and test set"
   ]
  },
  {
   "cell_type": "code",
   "execution_count": 29,
   "metadata": {},
   "outputs": [
    {
     "name": "stdout",
     "output_type": "stream",
     "text": [
      "(820, 21) (205, 21) (820, 1) (205, 1)\n"
     ]
    }
   ],
   "source": [
    "X_train, X_test, y_train, y_test = train_test_split(X, \n",
    "                                                    y, \n",
    "                                                    test_size=0.2, \n",
    "                                                    random_state=13, \n",
    "                                                    stratify=y)\n",
    "\n",
    "print(X_train.shape, X_test.shape, y_train.shape, y_test.shape)"
   ]
  },
  {
   "cell_type": "markdown",
   "metadata": {},
   "source": [
    "#### Decision Tree classifier"
   ]
  },
  {
   "cell_type": "code",
   "execution_count": 30,
   "metadata": {},
   "outputs": [],
   "source": [
    "DT = DecisionTreeClassifier()\n",
    "# LR = LogisticRegression()\n",
    "DT = DT.fit(X_train, y_train)"
   ]
  },
  {
   "cell_type": "markdown",
   "metadata": {},
   "source": [
    "#### Tree Diagram"
   ]
  },
  {
   "cell_type": "code",
   "execution_count": 31,
   "metadata": {},
   "outputs": [
    {
     "data": {
      "image/png": "[encoded data removed]",
      "text/plain": [
       "<Figure size 1440x1080 with 1 Axes>"
      ]
     },
     "metadata": {
      "needs_background": "light"
     },
     "output_type": "display_data"
    }
   ],
   "source": [
    "plt.figure(figsize = (20, 15))\n",
    "plot_tree(DT, filled=True, rounded=True, class_names = [\"No AHD\", \"AHD\"], feature_names = X.columns, max_depth=2, fontsize=10)\n",
    "plt.show()"
   ]
  },
  {
   "cell_type": "markdown",
   "metadata": {},
   "source": [
    "#### Model Performance Evaluation"
   ]
  },
  {
   "cell_type": "code",
   "execution_count": 32,
   "metadata": {},
   "outputs": [
    {
     "data": {
      "image/png": "[encoded data removed]",
      "text/plain": [
       "<Figure size 432x288 with 2 Axes>"
      ]
     },
     "metadata": {
      "needs_background": "light"
     },
     "output_type": "display_data"
    }
   ],
   "source": [
    "plot_confusion_matrix(DT,X_test, y_test, display_labels=[\"Doesn't have HD\", \"Has HD\"])\n",
    "plt.show()"
   ]
  },
  {
   "cell_type": "code",
   "execution_count": 33,
   "metadata": {},
   "outputs": [],
   "source": [
    "y_pred = DT.predict(X_test)"
   ]
  },
  {
   "cell_type": "code",
   "execution_count": 34,
   "metadata": {},
   "outputs": [],
   "source": [
    "# y_pred\n",
    "# DT.predict_proba(X_test)"
   ]
  },
  {
   "cell_type": "code",
   "execution_count": 35,
   "metadata": {},
   "outputs": [
    {
     "name": "stdout",
     "output_type": "stream",
     "text": [
      "              precision    recall  f1-score   support\n",
      "\n",
      "           0       0.97      1.00      0.99       100\n",
      "           1       1.00      0.97      0.99       105\n",
      "\n",
      "    accuracy                           0.99       205\n",
      "   macro avg       0.99      0.99      0.99       205\n",
      "weighted avg       0.99      0.99      0.99       205\n",
      "\n"
     ]
    }
   ],
   "source": [
    "accuracy_score(y_test,y_pred)\n",
    "print(classification_report(y_test, y_pred))"
   ]
  },
  {
   "cell_type": "code",
   "execution_count": 36,
   "metadata": {},
   "outputs": [
    {
     "data": {
      "image/png": "[encoded data removed]",
      "text/plain": [
       "<Figure size 720x576 with 1 Axes>"
      ]
     },
     "metadata": {
      "needs_background": "light"
     },
     "output_type": "display_data"
    }
   ],
   "source": [
    "fpr, tpr, thr = roc_curve(y_test, DT.predict_proba(X_test)[:,1])\n",
    "auc = roc_auc_score(y_test, y_pred)\n",
    "plt.figure(figsize=(10, 8))\n",
    "plt.plot(fpr, tpr, color='green', lw=2.5, label=\"Area Under Curve (AUC) = %0.2f\" % auc)\n",
    "plt.plot([0, 1], [0, 1], color='red', lw=2.5, linestyle='-')\n",
    "plt.xlabel('False Positive Rate (FPR)')\n",
    "plt.ylabel('True Positive Rate (TPR)')\n",
    "plt.title('ROC curve')\n",
    "plt.legend(loc=\"lower right\")\n",
    "plt.show()"
   ]
  },
  {
   "cell_type": "code",
   "execution_count": 37,
   "metadata": {},
   "outputs": [],
   "source": [
    "parameters = {'criterion': ['gini','entropy'],\n",
    "              'max_depth': [3, 4, 5, 6, 7, None],\n",
    "              'max_features': [\"auto\"]}\n",
    "\n",
    "model = DecisionTreeClassifier(random_state=13)\n",
    "grid_search = GridSearchCV(estimator=model,\n",
    "                           param_grid=parameters,\n",
    "                           scoring=\"precision\",\n",
    "                           cv=5,\n",
    "                           n_jobs=-1)\n",
    "\n",
    "# grid_search = GridSearchCV(estimator=model,\n",
    "#                            param_grid=parameters,\n",
    "#                            scoring=\"accuracy\",\n",
    "#                            cv=5,\n",
    "#                            n_jobs=-1)\n",
    "\n",
    "# grid_search = GridSearchCV(estimator=model,\n",
    "#                            param_grid=parameters,\n",
    "#                            scoring=\"precision\",\n",
    "#                            cv=5,\n",
    "#                            n_jobs=-1)\n",
    "\n",
    "# fit the model with the best hyper-parameters\n",
    "grid_result = grid_search.fit(X_train, y_train)"
   ]
  },
  {
   "cell_type": "code",
   "execution_count": 38,
   "metadata": {},
   "outputs": [
    {
     "data": {
      "text/plain": [
       "GridSearchCV(cv=5, estimator=DecisionTreeClassifier(random_state=13), n_jobs=-1,\n",
       "             param_grid={'criterion': ['gini', 'entropy'],\n",
       "                         'max_depth': [3, 4, 5, 6, 7, None],\n",
       "                         'max_features': ['auto']},\n",
       "             scoring='precision')"
      ]
     },
     "execution_count": 38,
     "metadata": {},
     "output_type": "execute_result"
    }
   ],
   "source": [
    "grid_result"
   ]
  },
  {
   "cell_type": "markdown",
   "metadata": {},
   "source": [
    "#### hyperparameters for grid search in each iteration\n",
    "- iteration 1: criterion='gini', max_depth=3\n",
    "- iteration 2: criterion='gini', max_depth=4\n",
    "- iteration 3: criterion='gini', max_depth=5\n",
    "- iteration 4: criterion='gini', max_depth=6\n",
    "- iteration 5: criterion='gini', max_depth=7\n",
    "- iteration 6: criterion='entropy', max_depth=3\n",
    "- iteration 7: criterion='entropy', max_depth=4\n",
    "- iteration 8: criterion='entropy', max_depth=5\n",
    "- iteration 9: criterion='entropy', max_depth=6\n",
    "- iteration 10: criterion='entropy', max_depth=7"
   ]
  },
  {
   "cell_type": "code",
   "execution_count": 39,
   "metadata": {},
   "outputs": [],
   "source": [
    "y_pred = grid_result.predict(X_test)"
   ]
  },
  {
   "cell_type": "markdown",
   "metadata": {},
   "source": [
    "#### Best hyperparameters in the grid search"
   ]
  },
  {
   "cell_type": "code",
   "execution_count": 40,
   "metadata": {},
   "outputs": [
    {
     "data": {
      "text/plain": [
       "{'criterion': 'gini', 'max_depth': None, 'max_features': 'auto'}"
      ]
     },
     "execution_count": 40,
     "metadata": {},
     "output_type": "execute_result"
    }
   ],
   "source": [
    "grid_result.best_params_"
   ]
  },
  {
   "cell_type": "code",
   "execution_count": 41,
   "metadata": {},
   "outputs": [
    {
     "data": {
      "text/plain": [
       "{'mean_fit_time': array([0.00797758, 0.00738711, 0.00917535, 0.00917096, 0.00758152,\n",
       "        0.00737677, 0.00837812, 0.00678124, 0.00877652, 0.00718169,\n",
       "        0.0073802 , 0.00638223]),\n",
       " 'std_fit_time': array([0.00126294, 0.00241484, 0.00364603, 0.00336719, 0.00149132,\n",
       "        0.00248693, 0.00286303, 0.00171619, 0.00291783, 0.00193393,\n",
       "        0.00173894, 0.00048901]),\n",
       " 'mean_score_time': array([0.00518603, 0.00517879, 0.00518637, 0.00418735, 0.00578184,\n",
       "        0.00678239, 0.00458798, 0.00398865, 0.00418901, 0.00418811,\n",
       "        0.00299182, 0.00319176]),\n",
       " 'std_score_time': array([1.16222206e-03, 7.51643687e-04, 3.42050823e-03, 1.16434174e-03,\n",
       "        3.24224706e-03, 3.17884038e-03, 1.62067005e-03, 1.09183999e-03,\n",
       "        1.46565503e-03, 1.16269620e-03, 7.92181383e-07, 7.46977583e-04]),\n",
       " 'param_criterion': masked_array(data=['gini', 'gini', 'gini', 'gini', 'gini', 'gini',\n",
       "                    'entropy', 'entropy', 'entropy', 'entropy', 'entropy',\n",
       "                    'entropy'],\n",
       "              mask=[False, False, False, False, False, False, False, False,\n",
       "                    False, False, False, False],\n",
       "        fill_value='?',\n",
       "             dtype=object),\n",
       " 'param_max_depth': masked_array(data=[3, 4, 5, 6, 7, None, 3, 4, 5, 6, 7, None],\n",
       "              mask=[False, False, False, False, False, False, False, False,\n",
       "                    False, False, False, False],\n",
       "        fill_value='?',\n",
       "             dtype=object),\n",
       " 'param_max_features': masked_array(data=['auto', 'auto', 'auto', 'auto', 'auto', 'auto', 'auto',\n",
       "                    'auto', 'auto', 'auto', 'auto', 'auto'],\n",
       "              mask=[False, False, False, False, False, False, False, False,\n",
       "                    False, False, False, False],\n",
       "        fill_value='?',\n",
       "             dtype=object),\n",
       " 'params': [{'criterion': 'gini', 'max_depth': 3, 'max_features': 'auto'},\n",
       "  {'criterion': 'gini', 'max_depth': 4, 'max_features': 'auto'},\n",
       "  {'criterion': 'gini', 'max_depth': 5, 'max_features': 'auto'},\n",
       "  {'criterion': 'gini', 'max_depth': 6, 'max_features': 'auto'},\n",
       "  {'criterion': 'gini', 'max_depth': 7, 'max_features': 'auto'},\n",
       "  {'criterion': 'gini', 'max_depth': None, 'max_features': 'auto'},\n",
       "  {'criterion': 'entropy', 'max_depth': 3, 'max_features': 'auto'},\n",
       "  {'criterion': 'entropy', 'max_depth': 4, 'max_features': 'auto'},\n",
       "  {'criterion': 'entropy', 'max_depth': 5, 'max_features': 'auto'},\n",
       "  {'criterion': 'entropy', 'max_depth': 6, 'max_features': 'auto'},\n",
       "  {'criterion': 'entropy', 'max_depth': 7, 'max_features': 'auto'},\n",
       "  {'criterion': 'entropy', 'max_depth': None, 'max_features': 'auto'}],\n",
       " 'split0_test_score': array([0.77906977, 0.8172043 , 0.81443299, 0.86046512, 0.86956522,\n",
       "        1.        , 0.80246914, 0.82222222, 0.83908046, 0.80851064,\n",
       "        0.89411765, 1.        ]),\n",
       " 'split1_test_score': array([0.77941176, 0.72164948, 0.81395349, 0.9       , 0.78350515,\n",
       "        0.94318182, 0.76190476, 0.71      , 0.7826087 , 0.82758621,\n",
       "        0.875     , 1.        ]),\n",
       " 'split2_test_score': array([0.75      , 0.77333333, 0.8630137 , 0.82716049, 0.87837838,\n",
       "        1.        , 0.75      , 0.78666667, 0.8630137 , 0.82894737,\n",
       "        0.85897436, 0.96551724]),\n",
       " 'split3_test_score': array([0.79012346, 0.76923077, 0.88607595, 0.82608696, 0.87804878,\n",
       "        1.        , 0.79012346, 0.85135135, 0.80232558, 0.88311688,\n",
       "        0.87804878, 0.97590361]),\n",
       " 'split4_test_score': array([0.85185185, 0.78947368, 0.86842105, 0.87804878, 0.90243902,\n",
       "        0.97674419, 0.85185185, 0.7755102 , 0.85      , 0.86363636,\n",
       "        0.84042553, 0.97701149]),\n",
       " 'mean_test_score': array([0.79009137, 0.77417831, 0.84917944, 0.85835227, 0.86238731,\n",
       "        0.9839852 , 0.79126984, 0.78915009, 0.82740569, 0.84235949,\n",
       "        0.86931326, 0.98368647]),\n",
       " 'std_test_score': array([0.0336369 , 0.03120786, 0.02956742, 0.02877821, 0.04093666,\n",
       "        0.02230143, 0.03567191, 0.04779061, 0.03016792, 0.02704718,\n",
       "        0.01824993, 0.01391051]),\n",
       " 'rank_test_score': array([10, 12,  6,  5,  4,  1,  9, 11,  8,  7,  3,  2])}"
      ]
     },
     "execution_count": 41,
     "metadata": {},
     "output_type": "execute_result"
    }
   ],
   "source": [
    "grid_result.cv_results_"
   ]
  },
  {
   "cell_type": "code",
   "execution_count": 42,
   "metadata": {},
   "outputs": [
    {
     "data": {
      "text/html": [
       "<div>\n",
       "<style scoped>\n",
       "    .dataframe tbody tr th:only-of-type {\n",
       "        vertical-align: middle;\n",
       "    }\n",
       "\n",
       "    .dataframe tbody tr th {\n",
       "        vertical-align: top;\n",
       "    }\n",
       "\n",
       "    .dataframe thead th {\n",
       "        text-align: right;\n",
       "    }\n",
       "</style>\n",
       "<table border=\"1\" class=\"dataframe\">\n",
       "  <thead>\n",
       "    <tr style=\"text-align: right;\">\n",
       "      <th></th>\n",
       "      <th>param_criterion</th>\n",
       "      <th>param_max_depth</th>\n",
       "      <th>split0_test_score</th>\n",
       "      <th>split1_test_score</th>\n",
       "      <th>split2_test_score</th>\n",
       "      <th>split3_test_score</th>\n",
       "      <th>split4_test_score</th>\n",
       "      <th>mean_test_score</th>\n",
       "      <th>std_test_score</th>\n",
       "      <th>rank_test_score</th>\n",
       "    </tr>\n",
       "  </thead>\n",
       "  <tbody>\n",
       "    <tr>\n",
       "      <th>5</th>\n",
       "      <td>gini</td>\n",
       "      <td>None</td>\n",
       "      <td>1.000000</td>\n",
       "      <td>0.943182</td>\n",
       "      <td>1.000000</td>\n",
       "      <td>1.000000</td>\n",
       "      <td>0.976744</td>\n",
       "      <td>0.983985</td>\n",
       "      <td>0.022301</td>\n",
       "      <td>1</td>\n",
       "    </tr>\n",
       "    <tr>\n",
       "      <th>11</th>\n",
       "      <td>entropy</td>\n",
       "      <td>None</td>\n",
       "      <td>1.000000</td>\n",
       "      <td>1.000000</td>\n",
       "      <td>0.965517</td>\n",
       "      <td>0.975904</td>\n",
       "      <td>0.977011</td>\n",
       "      <td>0.983686</td>\n",
       "      <td>0.013911</td>\n",
       "      <td>2</td>\n",
       "    </tr>\n",
       "    <tr>\n",
       "      <th>10</th>\n",
       "      <td>entropy</td>\n",
       "      <td>7</td>\n",
       "      <td>0.894118</td>\n",
       "      <td>0.875000</td>\n",
       "      <td>0.858974</td>\n",
       "      <td>0.878049</td>\n",
       "      <td>0.840426</td>\n",
       "      <td>0.869313</td>\n",
       "      <td>0.018250</td>\n",
       "      <td>3</td>\n",
       "    </tr>\n",
       "    <tr>\n",
       "      <th>4</th>\n",
       "      <td>gini</td>\n",
       "      <td>7</td>\n",
       "      <td>0.869565</td>\n",
       "      <td>0.783505</td>\n",
       "      <td>0.878378</td>\n",
       "      <td>0.878049</td>\n",
       "      <td>0.902439</td>\n",
       "      <td>0.862387</td>\n",
       "      <td>0.040937</td>\n",
       "      <td>4</td>\n",
       "    </tr>\n",
       "    <tr>\n",
       "      <th>3</th>\n",
       "      <td>gini</td>\n",
       "      <td>6</td>\n",
       "      <td>0.860465</td>\n",
       "      <td>0.900000</td>\n",
       "      <td>0.827160</td>\n",
       "      <td>0.826087</td>\n",
       "      <td>0.878049</td>\n",
       "      <td>0.858352</td>\n",
       "      <td>0.028778</td>\n",
       "      <td>5</td>\n",
       "    </tr>\n",
       "    <tr>\n",
       "      <th>2</th>\n",
       "      <td>gini</td>\n",
       "      <td>5</td>\n",
       "      <td>0.814433</td>\n",
       "      <td>0.813953</td>\n",
       "      <td>0.863014</td>\n",
       "      <td>0.886076</td>\n",
       "      <td>0.868421</td>\n",
       "      <td>0.849179</td>\n",
       "      <td>0.029567</td>\n",
       "      <td>6</td>\n",
       "    </tr>\n",
       "    <tr>\n",
       "      <th>9</th>\n",
       "      <td>entropy</td>\n",
       "      <td>6</td>\n",
       "      <td>0.808511</td>\n",
       "      <td>0.827586</td>\n",
       "      <td>0.828947</td>\n",
       "      <td>0.883117</td>\n",
       "      <td>0.863636</td>\n",
       "      <td>0.842359</td>\n",
       "      <td>0.027047</td>\n",
       "      <td>7</td>\n",
       "    </tr>\n",
       "    <tr>\n",
       "      <th>8</th>\n",
       "      <td>entropy</td>\n",
       "      <td>5</td>\n",
       "      <td>0.839080</td>\n",
       "      <td>0.782609</td>\n",
       "      <td>0.863014</td>\n",
       "      <td>0.802326</td>\n",
       "      <td>0.850000</td>\n",
       "      <td>0.827406</td>\n",
       "      <td>0.030168</td>\n",
       "      <td>8</td>\n",
       "    </tr>\n",
       "    <tr>\n",
       "      <th>6</th>\n",
       "      <td>entropy</td>\n",
       "      <td>3</td>\n",
       "      <td>0.802469</td>\n",
       "      <td>0.761905</td>\n",
       "      <td>0.750000</td>\n",
       "      <td>0.790123</td>\n",
       "      <td>0.851852</td>\n",
       "      <td>0.791270</td>\n",
       "      <td>0.035672</td>\n",
       "      <td>9</td>\n",
       "    </tr>\n",
       "    <tr>\n",
       "      <th>0</th>\n",
       "      <td>gini</td>\n",
       "      <td>3</td>\n",
       "      <td>0.779070</td>\n",
       "      <td>0.779412</td>\n",
       "      <td>0.750000</td>\n",
       "      <td>0.790123</td>\n",
       "      <td>0.851852</td>\n",
       "      <td>0.790091</td>\n",
       "      <td>0.033637</td>\n",
       "      <td>10</td>\n",
       "    </tr>\n",
       "    <tr>\n",
       "      <th>7</th>\n",
       "      <td>entropy</td>\n",
       "      <td>4</td>\n",
       "      <td>0.822222</td>\n",
       "      <td>0.710000</td>\n",
       "      <td>0.786667</td>\n",
       "      <td>0.851351</td>\n",
       "      <td>0.775510</td>\n",
       "      <td>0.789150</td>\n",
       "      <td>0.047791</td>\n",
       "      <td>11</td>\n",
       "    </tr>\n",
       "    <tr>\n",
       "      <th>1</th>\n",
       "      <td>gini</td>\n",
       "      <td>4</td>\n",
       "      <td>0.817204</td>\n",
       "      <td>0.721649</td>\n",
       "      <td>0.773333</td>\n",
       "      <td>0.769231</td>\n",
       "      <td>0.789474</td>\n",
       "      <td>0.774178</td>\n",
       "      <td>0.031208</td>\n",
       "      <td>12</td>\n",
       "    </tr>\n",
       "  </tbody>\n",
       "</table>\n",
       "</div>"
      ],
      "text/plain": [
       "   param_criterion param_max_depth  split0_test_score  split1_test_score  \\\n",
       "5             gini            None           1.000000           0.943182   \n",
       "11         entropy            None           1.000000           1.000000   \n",
       "10         entropy               7           0.894118           0.875000   \n",
       "4             gini               7           0.869565           0.783505   \n",
       "3             gini               6           0.860465           0.900000   \n",
       "2             gini               5           0.814433           0.813953   \n",
       "9          entropy               6           0.808511           0.827586   \n",
       "8          entropy               5           0.839080           0.782609   \n",
       "6          entropy               3           0.802469           0.761905   \n",
       "0             gini               3           0.779070           0.779412   \n",
       "7          entropy               4           0.822222           0.710000   \n",
       "1             gini               4           0.817204           0.721649   \n",
       "\n",
       "    split2_test_score  split3_test_score  split4_test_score  mean_test_score  \\\n",
       "5            1.000000           1.000000           0.976744         0.983985   \n",
       "11           0.965517           0.975904           0.977011         0.983686   \n",
       "10           0.858974           0.878049           0.840426         0.869313   \n",
       "4            0.878378           0.878049           0.902439         0.862387   \n",
       "3            0.827160           0.826087           0.878049         0.858352   \n",
       "2            0.863014           0.886076           0.868421         0.849179   \n",
       "9            0.828947           0.883117           0.863636         0.842359   \n",
       "8            0.863014           0.802326           0.850000         0.827406   \n",
       "6            0.750000           0.790123           0.851852         0.791270   \n",
       "0            0.750000           0.790123           0.851852         0.790091   \n",
       "7            0.786667           0.851351           0.775510         0.789150   \n",
       "1            0.773333           0.769231           0.789474         0.774178   \n",
       "\n",
       "    std_test_score  rank_test_score  \n",
       "5         0.022301                1  \n",
       "11        0.013911                2  \n",
       "10        0.018250                3  \n",
       "4         0.040937                4  \n",
       "3         0.028778                5  \n",
       "2         0.029567                6  \n",
       "9         0.027047                7  \n",
       "8         0.030168                8  \n",
       "6         0.035672                9  \n",
       "0         0.033637               10  \n",
       "7         0.047791               11  \n",
       "1         0.031208               12  "
      ]
     },
     "metadata": {},
     "output_type": "display_data"
    }
   ],
   "source": [
    "cv_result = pd.DataFrame(grid_result.cv_results_)\n",
    "cv_result = cv_result[['param_criterion', 'param_max_depth',\n",
    "                       'split0_test_score',\n",
    "                       'split1_test_score', 'split2_test_score', 'split3_test_score',\n",
    "                       'split4_test_score', 'mean_test_score', 'std_test_score',\n",
    "                       'rank_test_score']]\n",
    "cv_result = cv_result.sort_values(by='rank_test_score')\n",
    "display(cv_result)\n",
    "# print(cv_result.columns)"
   ]
  },
  {
   "cell_type": "markdown",
   "metadata": {},
   "source": [
    "#### Model performance evaluation with the best found model in grid search and cross-validation"
   ]
  },
  {
   "cell_type": "code",
   "execution_count": 43,
   "metadata": {},
   "outputs": [
    {
     "data": {
      "image/png": "[encoded data removed]",
      "text/plain": [
       "<Figure size 432x288 with 2 Axes>"
      ]
     },
     "metadata": {
      "needs_background": "light"
     },
     "output_type": "display_data"
    }
   ],
   "source": [
    "plot_confusion_matrix(grid_result, \n",
    "                      X_test, \n",
    "                      y_test, \n",
    "                      display_labels=[\"Doesn't have AHD\", \"Has AHD\"])\n",
    "plt.show()"
   ]
  },
  {
   "cell_type": "code",
   "execution_count": 44,
   "metadata": {},
   "outputs": [
    {
     "name": "stdout",
     "output_type": "stream",
     "text": [
      "confusion_matrix: \n",
      " [[100   0]\n",
      " [  3 102]]\n",
      "Accuracy:  0.9853658536585366\n",
      "              precision    recall  f1-score   support\n",
      "\n",
      "           0       0.97      1.00      0.99       100\n",
      "           1       1.00      0.97      0.99       105\n",
      "\n",
      "    accuracy                           0.99       205\n",
      "   macro avg       0.99      0.99      0.99       205\n",
      "weighted avg       0.99      0.99      0.99       205\n",
      "\n"
     ]
    }
   ],
   "source": [
    "confusion_matrix_dt = confusion_matrix(y_test, y_pred)\n",
    "print('confusion_matrix: \\n', confusion_matrix_dt)\n",
    "\n",
    "print('Accuracy: ', accuracy_score(y_test, y_pred))\n",
    "\n",
    "print(classification_report(y_test, y_pred))"
   ]
  },
  {
   "cell_type": "code",
   "execution_count": 45,
   "metadata": {},
   "outputs": [
    {
     "data": {
      "image/png": "[encoded data removed]",
      "text/plain": [
       "<Figure size 720x576 with 1 Axes>"
      ]
     },
     "metadata": {
      "needs_background": "light"
     },
     "output_type": "display_data"
    }
   ],
   "source": [
    "fpr, tpr, thr = roc_curve(y_test, grid_result.predict_proba(X_test)[:,1])\n",
    "auc = np.round(roc_auc_score(y_test, y_pred), 2)\n",
    "\n",
    "plt.figure(figsize=(10, 8))\n",
    "plt.plot(fpr, \n",
    "         tpr, \n",
    "         color='green', \n",
    "         lw=2, \n",
    "         label=\"Curve Area = \" +str(auc))\n",
    "\n",
    "plt.plot([0, 1], [0, 1], color='blue', lw=2, linestyle='--')\n",
    "plt.xlabel('False Positive Rate (FPR)')\n",
    "plt.ylabel('True Positive Rate (TPR)')\n",
    "plt.title('ROC curve')\n",
    "plt.legend(loc=\"lower right\")\n",
    "plt.show()"
   ]
  },
  {
   "cell_type": "code",
   "execution_count": null,
   "metadata": {},
   "outputs": [],
   "source": []
  },
  {
   "cell_type": "code",
   "execution_count": null,
   "metadata": {},
   "outputs": [],
   "source": []
  },
  {
   "cell_type": "code",
   "execution_count": null,
   "metadata": {},
   "outputs": [],
   "source": []
  }
 ],
 "metadata": {
  "kernelspec": {
   "display_name": "Python 3 (ipykernel)",
   "language": "python",
   "name": "python3"
  },
  "language_info": {
   "codemirror_mode": {
    "name": "ipython",
    "version": 3
   },
   "file_extension": ".py",
   "mimetype": "text/x-python",
   "name": "python",
   "nbconvert_exporter": "python",
   "pygments_lexer": "ipython3",
   "version": "3.9.7"
  }
 },
 "nbformat": 4,
 "nbformat_minor": 4
}
