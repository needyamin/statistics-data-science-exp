{
 "cells": [
  {
   "cell_type": "markdown",
   "id": "05d6b4cc",
   "metadata": {},
   "source": [
    "# Predicting Price of House\n",
    "### Objectives: \n",
    "- to understand problem of overfitting in predicting housing price\n",
    "- to apply regularization techniques (L1, L2) to reduce overfitting\n",
    "\n",
    "Data source: https://github.com/dipalira/Melbourne-Housing-Data-Kaggle"
   ]
  },
  {
   "cell_type": "markdown",
   "id": "5f50a614",
   "metadata": {},
   "source": [
    "### Import Required Libraries"
   ]
  },
  {
   "cell_type": "code",
   "execution_count": 1,
   "id": "313c085e",
   "metadata": {},
   "outputs": [],
   "source": [
    "import numpy as np\n",
    "import matplotlib.pyplot as plt\n",
    "import pandas as pd\n",
    "import seaborn as sns"
   ]
  },
  {
   "cell_type": "code",
   "execution_count": 2,
   "id": "b621252e",
   "metadata": {},
   "outputs": [],
   "source": [
    "from sklearn.linear_model import LinearRegression\n",
    "from sklearn.model_selection import train_test_split\n",
    "from sklearn.model_selection import cross_val_score"
   ]
  },
  {
   "cell_type": "markdown",
   "id": "3b5a0df0",
   "metadata": {},
   "source": [
    "### Read the dataset ( csv file)"
   ]
  },
  {
   "cell_type": "code",
   "execution_count": 5,
   "id": "1d620e43",
   "metadata": {},
   "outputs": [
    {
     "name": "stdout",
     "output_type": "stream",
     "text": [
      "<class 'pandas.core.frame.DataFrame'>\n",
      "RangeIndex: 34857 entries, 0 to 34856\n",
      "Data columns (total 21 columns):\n",
      " #   Column         Non-Null Count  Dtype  \n",
      "---  ------         --------------  -----  \n",
      " 0   Suburb         34857 non-null  object \n",
      " 1   Address        34857 non-null  object \n",
      " 2   Rooms          34857 non-null  int64  \n",
      " 3   Type           34857 non-null  object \n",
      " 4   Price          27247 non-null  float64\n",
      " 5   Method         34857 non-null  object \n",
      " 6   SellerG        34857 non-null  object \n",
      " 7   Date           34857 non-null  object \n",
      " 8   Distance       34856 non-null  float64\n",
      " 9   Postcode       34856 non-null  float64\n",
      " 10  Bedroom2       26640 non-null  float64\n",
      " 11  Bathroom       26631 non-null  float64\n",
      " 12  Car            26129 non-null  float64\n",
      " 13  Landsize       23047 non-null  float64\n",
      " 14  BuildingArea   13742 non-null  float64\n",
      " 15  YearBuilt      15551 non-null  float64\n",
      " 16  CouncilArea    34854 non-null  object \n",
      " 17  Lattitude      26881 non-null  float64\n",
      " 18  Longtitude     26881 non-null  float64\n",
      " 19  Regionname     34854 non-null  object \n",
      " 20  Propertycount  34854 non-null  float64\n",
      "dtypes: float64(12), int64(1), object(8)\n",
      "memory usage: 5.6+ MB\n"
     ]
    }
   ],
   "source": [
    "df = pd.read_csv('Melbourne_housing_FULL.csv')\n",
    "df.head()\n",
    "df.shape\n",
    "# df.columns\n",
    "df.info()"
   ]
  },
  {
   "cell_type": "code",
   "execution_count": null,
   "id": "1edcf8fa",
   "metadata": {},
   "outputs": [],
   "source": [
    "df.shape"
   ]
  },
  {
   "cell_type": "code",
   "execution_count": null,
   "id": "c60fc448",
   "metadata": {},
   "outputs": [],
   "source": [
    "df.nunique()"
   ]
  },
  {
   "cell_type": "code",
   "execution_count": 6,
   "id": "216a8efb",
   "metadata": {},
   "outputs": [
    {
     "data": {
      "text/plain": [
       "(34857, 15)"
      ]
     },
     "execution_count": 6,
     "metadata": {},
     "output_type": "execute_result"
    }
   ],
   "source": [
    "cols_to_use = ['Suburb', 'Rooms', 'Type', 'Method',\n",
    "               'SellerG', 'Regionname', 'Propertycount',\n",
    "               'Distance','CouncilArea', 'Bedroom2',\n",
    "               'Bathroom','Car','Landsize','BuildingArea',\n",
    "                'Price']\n",
    "df = df[cols_to_use]\n",
    "df.shape"
   ]
  },
  {
   "cell_type": "markdown",
   "id": "112a925a",
   "metadata": {},
   "source": [
    "### Missing value handling"
   ]
  },
  {
   "cell_type": "code",
   "execution_count": 7,
   "id": "669f519b",
   "metadata": {},
   "outputs": [
    {
     "data": {
      "text/plain": [
       "Suburb               0\n",
       "Rooms                0\n",
       "Type                 0\n",
       "Method               0\n",
       "SellerG              0\n",
       "Regionname           3\n",
       "Propertycount        3\n",
       "Distance             1\n",
       "CouncilArea          3\n",
       "Bedroom2          8217\n",
       "Bathroom          8226\n",
       "Car               8728\n",
       "Landsize         11810\n",
       "BuildingArea     21115\n",
       "Price             7610\n",
       "dtype: int64"
      ]
     },
     "execution_count": 7,
     "metadata": {},
     "output_type": "execute_result"
    }
   ],
   "source": [
    "df.isna().sum()"
   ]
  },
  {
   "cell_type": "code",
   "execution_count": 8,
   "id": "522ff152",
   "metadata": {},
   "outputs": [
    {
     "data": {
      "text/plain": [
       "Suburb               0\n",
       "Rooms                0\n",
       "Type                 0\n",
       "Method               0\n",
       "SellerG              0\n",
       "Regionname           3\n",
       "Propertycount        0\n",
       "Distance             0\n",
       "CouncilArea          3\n",
       "Bedroom2             0\n",
       "Bathroom             0\n",
       "Car                  0\n",
       "Landsize         11810\n",
       "BuildingArea     21115\n",
       "Price             7610\n",
       "dtype: int64"
      ]
     },
     "execution_count": 8,
     "metadata": {},
     "output_type": "execute_result"
    }
   ],
   "source": [
    "cols_to_fill_zero = ['Propertycount', 'Distance','Bedroom2','Bathroom','Car']\n",
    "df[cols_to_fill_zero] = df[cols_to_fill_zero].fillna(0)\n",
    "df.isna().sum()"
   ]
  },
  {
   "cell_type": "code",
   "execution_count": null,
   "id": "1797bf2c",
   "metadata": {},
   "outputs": [],
   "source": [
    "df.info()"
   ]
  },
  {
   "cell_type": "code",
   "execution_count": 10,
   "id": "fd5cc06b",
   "metadata": {},
   "outputs": [
    {
     "data": {
      "text/plain": [
       "Suburb           0\n",
       "Rooms            0\n",
       "Type             0\n",
       "Method           0\n",
       "SellerG          0\n",
       "Regionname       0\n",
       "Propertycount    0\n",
       "Distance         0\n",
       "CouncilArea      0\n",
       "Bedroom2         0\n",
       "Bathroom         0\n",
       "Car              0\n",
       "Landsize         0\n",
       "BuildingArea     0\n",
       "Price            0\n",
       "dtype: int64"
      ]
     },
     "execution_count": 10,
     "metadata": {},
     "output_type": "execute_result"
    }
   ],
   "source": [
    "# df['Landsize']=df['Landsize'].fillna(df['Landsize'].mean())\n",
    "# df['BuildingArea']=df['BuildingArea'].fillna(df['BuildingArea'].mean())\n",
    "\n",
    "df.dropna(inplace=True)\n",
    "df.isna().sum()"
   ]
  },
  {
   "cell_type": "code",
   "execution_count": 11,
   "id": "e4c4eccd",
   "metadata": {},
   "outputs": [
    {
     "name": "stdout",
     "output_type": "stream",
     "text": [
      "<class 'pandas.core.frame.DataFrame'>\n",
      "Int64Index: 27244 entries, 1 to 34856\n",
      "Data columns (total 15 columns):\n",
      " #   Column         Non-Null Count  Dtype  \n",
      "---  ------         --------------  -----  \n",
      " 0   Suburb         27244 non-null  object \n",
      " 1   Rooms          27244 non-null  int64  \n",
      " 2   Type           27244 non-null  object \n",
      " 3   Method         27244 non-null  object \n",
      " 4   SellerG        27244 non-null  object \n",
      " 5   Regionname     27244 non-null  object \n",
      " 6   Propertycount  27244 non-null  float64\n",
      " 7   Distance       27244 non-null  float64\n",
      " 8   CouncilArea    27244 non-null  object \n",
      " 9   Bedroom2       27244 non-null  float64\n",
      " 10  Bathroom       27244 non-null  float64\n",
      " 11  Car            27244 non-null  float64\n",
      " 12  Landsize       27244 non-null  float64\n",
      " 13  BuildingArea   27244 non-null  float64\n",
      " 14  Price          27244 non-null  float64\n",
      "dtypes: float64(8), int64(1), object(6)\n",
      "memory usage: 3.3+ MB\n"
     ]
    }
   ],
   "source": [
    "df.info()"
   ]
  },
  {
   "cell_type": "markdown",
   "id": "99a0eac4",
   "metadata": {},
   "source": [
    "### Encoding Categorical Features"
   ]
  },
  {
   "cell_type": "code",
   "execution_count": 13,
   "id": "577a08e5",
   "metadata": {},
   "outputs": [
    {
     "data": {
      "text/plain": [
       "Index(['Rooms', 'Propertycount', 'Distance', 'Bedroom2', 'Bathroom', 'Car',\n",
       "       'Landsize', 'BuildingArea', 'Price', 'Suburb_Aberfeldie',\n",
       "       ...\n",
       "       'CouncilArea_Moorabool Shire Council',\n",
       "       'CouncilArea_Moreland City Council',\n",
       "       'CouncilArea_Nillumbik Shire Council',\n",
       "       'CouncilArea_Port Phillip City Council',\n",
       "       'CouncilArea_Stonnington City Council',\n",
       "       'CouncilArea_Whitehorse City Council',\n",
       "       'CouncilArea_Whittlesea City Council',\n",
       "       'CouncilArea_Wyndham City Council', 'CouncilArea_Yarra City Council',\n",
       "       'CouncilArea_Yarra Ranges Shire Council'],\n",
       "      dtype='object', length=745)"
      ]
     },
     "execution_count": 13,
     "metadata": {},
     "output_type": "execute_result"
    }
   ],
   "source": [
    "df = pd.get_dummies(df,drop_first = True)\n",
    "df.head()\n",
    "df.columns"
   ]
  },
  {
   "cell_type": "markdown",
   "id": "a6aae0d8",
   "metadata": {},
   "source": [
    "### seperating Features, Target, Train, Test"
   ]
  },
  {
   "cell_type": "code",
   "execution_count": 14,
   "id": "e08b8017",
   "metadata": {},
   "outputs": [
    {
     "name": "stdout",
     "output_type": "stream",
     "text": [
      "(27244, 745) \n",
      " (19070, 744) (8174, 744) \n",
      " (19070, 1) (8174, 1)\n"
     ]
    }
   ],
   "source": [
    "X = df.drop('Price',axis = 1)\n",
    "y = df[['Price']]\n",
    "X_train, X_test, y_train, y_test = train_test_split(X,y, test_size = 0.3, random_state = 2)\n",
    "\n",
    "print(df.shape,'\\n', X_train.shape, X_test.shape, '\\n', y_train.shape, y_test.shape)"
   ]
  },
  {
   "cell_type": "markdown",
   "id": "14c6d8fe",
   "metadata": {},
   "source": [
    "### Linear Regression: Fit the model"
   ]
  },
  {
   "cell_type": "code",
   "execution_count": 15,
   "id": "6d43e7ee",
   "metadata": {},
   "outputs": [
    {
     "data": {
      "text/plain": [
       "LinearRegression()"
      ]
     },
     "execution_count": 15,
     "metadata": {},
     "output_type": "execute_result"
    }
   ],
   "source": [
    "lr = LinearRegression()\n",
    "lr.fit(X_train, y_train)"
   ]
  },
  {
   "cell_type": "code",
   "execution_count": 16,
   "id": "dd1b7af1",
   "metadata": {},
   "outputs": [
    {
     "data": {
      "text/plain": [
       "0.6827792395792723"
      ]
     },
     "execution_count": 16,
     "metadata": {},
     "output_type": "execute_result"
    }
   ],
   "source": [
    "lr.score(X_train, y_train)"
   ]
  },
  {
   "cell_type": "code",
   "execution_count": 17,
   "id": "693617ab",
   "metadata": {},
   "outputs": [
    {
     "data": {
      "text/plain": [
       "0.13853683161537644"
      ]
     },
     "execution_count": 17,
     "metadata": {},
     "output_type": "execute_result"
    }
   ],
   "source": [
    "lr.score(X_test, y_test)"
   ]
  },
  {
   "cell_type": "markdown",
   "id": "70c0af8f",
   "metadata": {},
   "source": [
    "This is a problem of overfiting model"
   ]
  },
  {
   "cell_type": "code",
   "execution_count": null,
   "id": "99384b54",
   "metadata": {},
   "outputs": [],
   "source": [
    "from sklearn.metrics import mean_squared_error, r2_score\n",
    "# mse_test = mean_squared_error(y_test,lr.predict(X_test))\n",
    "# mse_train = mean_squared_error(y_train,lr.predict(X_train))\n",
    "# print(round(mse_train,2), np.round(mse_test,2))"
   ]
  },
  {
   "cell_type": "code",
   "execution_count": null,
   "id": "a7700bf0",
   "metadata": {},
   "outputs": [],
   "source": [
    "r2_score(y_test, lr.predict(X_test))"
   ]
  },
  {
   "cell_type": "markdown",
   "id": "1eb7a36f",
   "metadata": {},
   "source": [
    "## L1 Regularization: LASSO "
   ]
  },
  {
   "cell_type": "code",
   "execution_count": 23,
   "id": "1f412717",
   "metadata": {},
   "outputs": [
    {
     "data": {
      "text/plain": [
       "0.6636280170612746"
      ]
     },
     "execution_count": 23,
     "metadata": {},
     "output_type": "execute_result"
    }
   ],
   "source": [
    "# from sklearn.linear_model import Lasso\n",
    "# lasso = Lasso(alpha = 50, max_iter = 1000, tol = 0.1)\n",
    "# lasso.fit(X_train, y_train)\n",
    "lasso.score(X_test, y_test)"
   ]
  },
  {
   "cell_type": "code",
   "execution_count": 24,
   "id": "15438a9d",
   "metadata": {},
   "outputs": [
    {
     "data": {
      "text/plain": [
       "0.6767149418617553"
      ]
     },
     "execution_count": 24,
     "metadata": {},
     "output_type": "execute_result"
    }
   ],
   "source": [
    "lasso.score(X_train, y_train)"
   ]
  },
  {
   "cell_type": "markdown",
   "id": "29542313",
   "metadata": {},
   "source": [
    "## Ridge (L2)"
   ]
  },
  {
   "cell_type": "code",
   "execution_count": 29,
   "id": "3f4132cc",
   "metadata": {},
   "outputs": [
    {
     "data": {
      "text/plain": [
       "0.6743855819360092"
      ]
     },
     "execution_count": 29,
     "metadata": {},
     "output_type": "execute_result"
    }
   ],
   "source": [
    "from sklearn.linear_model import Ridge\n",
    "rr = Ridge(alpha = 5, max_iter = 100, tol = 0.1)\n",
    "rr.fit(X_train,y_train)\n",
    "rr.score(X_test, y_test)"
   ]
  },
  {
   "cell_type": "code",
   "execution_count": 26,
   "id": "519afca1",
   "metadata": {},
   "outputs": [
    {
     "data": {
      "text/plain": [
       "0.6622376739684328"
      ]
     },
     "execution_count": 26,
     "metadata": {},
     "output_type": "execute_result"
    }
   ],
   "source": [
    "rr.score(X_train, y_train)"
   ]
  },
  {
   "cell_type": "code",
   "execution_count": null,
   "id": "65451c0b",
   "metadata": {},
   "outputs": [],
   "source": []
  },
  {
   "cell_type": "markdown",
   "id": "7bf1e14e",
   "metadata": {},
   "source": [
    "## Further Consideration"
   ]
  },
  {
   "cell_type": "markdown",
   "id": "5922c73d",
   "metadata": {},
   "source": [
    "- Feature Selection\n",
    "- Feature Scaling\n",
    "- Categorical Encoding\n",
    "- Missing Value Imputation\n",
    "- Hyperparameter Tuning\n",
    "- Cross Validation"
   ]
  },
  {
   "cell_type": "code",
   "execution_count": null,
   "id": "883aa4df",
   "metadata": {},
   "outputs": [],
   "source": []
  }
 ],
 "metadata": {
  "kernelspec": {
   "display_name": "Python 3 (ipykernel)",
   "language": "python",
   "name": "python3"
  },
  "language_info": {
   "codemirror_mode": {
    "name": "ipython",
    "version": 3
   },
   "file_extension": ".py",
   "mimetype": "text/x-python",
   "name": "python",
   "nbconvert_exporter": "python",
   "pygments_lexer": "ipython3",
   "version": "3.9.7"
  }
 },
 "nbformat": 4,
 "nbformat_minor": 5
}
